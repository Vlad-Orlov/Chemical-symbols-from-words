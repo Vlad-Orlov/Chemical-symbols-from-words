{
 "cells": [
  {
   "cell_type": "markdown",
   "metadata": {},
   "source": [
    "## Chemical words\n",
    "\n",
    "This fun little project aims to transform a string of characters into \"chemical encoding\", similarly to how the \"**Br**eaking **Ba**d\" show name is spelled out with Bromine (element 35) and Barium (element 56)."
   ]
  },
  {
   "cell_type": "markdown",
   "metadata": {},
   "source": [
    "<img src=\"breaking_bad_picture.jpg\" width=700/>\n",
    "<caption><center> <u> <font color='purple'> <b>Breaking Bad (TV Series 2008-2013)</b> </u></center></caption>"
   ]
  },
  {
   "cell_type": "markdown",
   "metadata": {},
   "source": [
    "It is way to easy to just pick some chemical symbols from the word. Our goal is to transform the whole word into a sequence of chemical symbols. This is not possible for every word, so I propose to call such words \"*chemical words*\". We will search for all possible combinations in each word (for example the word \"rain\" can be represented in two ways -- \\['RaIn', 'RaIN'\\], first one being (Radium, Indium) and second one being (Radium, Iodine, Nitrogen)."
   ]
  },
  {
   "cell_type": "code",
   "execution_count": 62,
   "metadata": {},
   "outputs": [],
   "source": [
    "# first get all the chemical symbols of elements into a list\n",
    "\n",
    "import pandas as pd\n",
    "df = pd.read_html(\"https://www.vedantu.com/chemistry/118-elements-and-their-symbols-and-atomic-numbers\")[0]\n",
    "elements = [str(x).lower() for x in df[2]][1:]"
   ]
  },
  {
   "cell_type": "code",
   "execution_count": 63,
   "metadata": {},
   "outputs": [
    {
     "name": "stdout",
     "output_type": "stream",
     "text": [
      "['h', 'he', 'li', 'be', 'b', 'c', 'n', 'o', 'f', 'ne', 'na', 'mg', 'al', 'si', 'p', 's', 'cl', 'ar', 'k', 'ca', 'sc', 'ti', 'v', 'cr', 'mn', 'fe', 'co', 'ni', 'cu', 'zn', 'ga', 'ge', 'as', 'se', 'br', 'kr', 'rb', 'sr', 'y', 'zr', 'nb', 'mo', 'tc', 'ru', 'rh', 'pd', 'ag', 'cd', 'in', 'sn', 'sb', 'te', 'i', 'xe', 'cs', 'ba', 'la', 'ce', 'pr', 'nd', 'pm', 'sm', 'eu', 'gd', 'tb', 'dy', 'ho', 'er', 'tm', 'yb', 'lu', 'hf', 'ta', 'w', 're', 'os', 'ir', 'pt', 'au', 'hg', 'tl', 'pb', 'bi', 'po', 'at', 'rn', 'fr', 'ra', 'ac', 'th', 'pa', 'u', 'np', 'pu', 'am', 'cm', 'bk', 'cf', 'es', 'fm', 'md', 'no', 'lr', 'rf', 'db', 'sg', 'bh', 'hs', 'mt', 'ds', 'rg', 'cn', 'nh', 'fl', 'mc', 'lv', 'ts', 'og']\n",
      "\n",
      "There are 118 known chemical elements in total.\n"
     ]
    }
   ],
   "source": [
    "print(elements)\n",
    "print(f\"\\nThere are {len(elements)} known chemical elements in total.\")"
   ]
  },
  {
   "cell_type": "code",
   "execution_count": 64,
   "metadata": {},
   "outputs": [
    {
     "name": "stdout",
     "output_type": "stream",
     "text": [
      "There are 14 one-letter symbols and 104 two-letter symbols.\n"
     ]
    }
   ],
   "source": [
    "n_one_letter = sum([len(x)==1 for x in elements])\n",
    "n_two_letter = sum([len(x)==2 for x in elements])\n",
    "print(f\"There are {n_one_letter} one-letter symbols and {n_two_letter} two-letter symbols.\")"
   ]
  },
  {
   "cell_type": "markdown",
   "metadata": {},
   "source": [
    "\n",
    "As we can see, they are at most 2 letters in length, and there are 118 of them. Interestingly, only 14 elements get abbreviated as a single letter of english alphabet (out of 26 available). Let's list them:"
   ]
  },
  {
   "cell_type": "code",
   "execution_count": 65,
   "metadata": {},
   "outputs": [
    {
     "data": {
      "text/plain": [
       "['H', 'B', 'C', 'N', 'O', 'F', 'P', 'S', 'K', 'V', 'Y', 'I', 'W', 'U']"
      ]
     },
     "execution_count": 65,
     "metadata": {},
     "output_type": "execute_result"
    }
   ],
   "source": [
    "[x.capitalize() for x in elements if len(x)==1]"
   ]
  },
  {
   "cell_type": "markdown",
   "metadata": {},
   "source": [
    "As for the remaining unused letters of the alphabet, here they are: ['A','D','E','G','J','L','M','Q','R','T','X','Z']. However, some of them appear in the two-letter combinations (A in Al, or E in Es, for example). Let's check, if some of the letters are completely missing:"
   ]
  },
  {
   "cell_type": "code",
   "execution_count": 66,
   "metadata": {},
   "outputs": [
    {
     "name": "stdout",
     "output_type": "stream",
     "text": [
      "Letters {'Q', 'J'} are completely missing from the names of chemical symbols!\n"
     ]
    }
   ],
   "source": [
    "used_letters = set(\"\".join(elements).upper())\n",
    "alphabet = set(\"ABCDEFGHIJKLMNOPQRSTUVWXYZ\")\n",
    "print(f\"Letters {alphabet - used_letters} are completely missing from the names of chemical symbols!\") "
   ]
  },
  {
   "cell_type": "markdown",
   "metadata": {},
   "source": [
    "That's a bummer! This means, that if your name contains letters 'J' or 'Q', it is not *chemical* and cannot be written as a combination of chemical symbols. I'm sorry :("
   ]
  },
  {
   "cell_type": "markdown",
   "metadata": {},
   "source": [
    "## Function to get chemical representation\n",
    "\n",
    "We will now attempt to write a function, that takes a word as a string and returns it's chemical analog. This function will first try to match for the two-letter symbols, to make the result more interesting"
   ]
  },
  {
   "cell_type": "code",
   "execution_count": 67,
   "metadata": {},
   "outputs": [],
   "source": [
    "def get_chemical_word(word: str) -> str:\n",
    "    \"\"\"\n",
    "    Arguments:\n",
    "    word -- (str) of alphabetical characters\n",
    "    \n",
    "    Returns:\n",
    "    result -- (str) chemical representations of a given word in CamelCase.\n",
    "    Empty string is returned, if it is not possible to construct a given \n",
    "    word from the chemical symbols\n",
    "    \"\"\"\n",
    "    \n",
    "    word_len = len(word)\n",
    "    result = \"\"\n",
    "    while word != \"\":\n",
    "        new_el = \"\"\n",
    "        if word[:2] in elements:\n",
    "            new_el = word[:2]\n",
    "            word = word[2:]\n",
    "        elif word[:1] in elements:\n",
    "            new_el = word[:1]\n",
    "            word = word[1:]\n",
    "        else:\n",
    "            break\n",
    "        result += new_el.capitalize()\n",
    "\n",
    "    if len(result) != word_len:\n",
    "        result = \"\"\n",
    "        \n",
    "    return result"
   ]
  },
  {
   "cell_type": "markdown",
   "metadata": {},
   "source": [
    "Let's now try a few words!"
   ]
  },
  {
   "cell_type": "code",
   "execution_count": 68,
   "metadata": {},
   "outputs": [
    {
     "name": "stdout",
     "output_type": "stream",
     "text": [
      "neptune --> NePtUNe\n",
      "confrontation --> CoNFrONTaTiON\n",
      "hamburger --> HAmBURgEr\n",
      "southwestern --> SOUThWEsTeRn\n"
     ]
    }
   ],
   "source": [
    "words = [\"neptune\",\"confrontation\",\"hamburger\",\"southwestern\"]\n",
    "for word in words:\n",
    "    print(f\"{word} --> {get_chemical_word(word)}\")\n"
   ]
  },
  {
   "cell_type": "markdown",
   "metadata": {},
   "source": [
    "As we can see, even pretty long words can be represented as sequences of chemical elements symbols. Wouldn't it be interesting to find the longest ones? If you are using linux, there is a file `/usr/share/dict/american-english`, that contains about 100'000 most commonly used english words. We have a copy of it in this folder."
   ]
  },
  {
   "cell_type": "code",
   "execution_count": 69,
   "metadata": {},
   "outputs": [
    {
     "name": "stdout",
     "output_type": "stream",
     "text": [
      "There are 73381 words and the longest one is 22 characters!\n"
     ]
    }
   ],
   "source": [
    "# we first read this file into a string and then split it into a list of words\n",
    "\n",
    "with open(\"./american-english\") as f:\n",
    "    dictionary = f.read()\n",
    "\n",
    "# get everything to lower register and remove trailing 's\n",
    "words = [w.lower() for w in dictionary.split() if w[-2:] != \"'s\"]\n",
    "print(f\"There are {len(words)} words and the longest one is {max([len(w) for w in words])} characters!\")"
   ]
  },
  {
   "cell_type": "code",
   "execution_count": 70,
   "metadata": {},
   "outputs": [
    {
     "name": "stdout",
     "output_type": "stream",
     "text": [
      "ac                   --> Ac                     \n",
      "achebe               --> AcHeBe                 \n",
      "achernar             --> AcHeRnAr               \n",
      "acheson              --> AcHeSON                \n",
      "acosta               --> AcOsTa                 \n",
      "acts                 --> AcTs                   \n",
      "acuff                --> AcUFF                  \n",
      "ag                   --> Ag                     \n",
      "agassi               --> AgAsSi                 \n",
      "agnes                --> AgNeS                  \n",
      "agnew                --> AgNeW                  \n",
      "agni                 --> AgNi                   \n",
      "agra                 --> AgRa                   \n",
      "aguirre              --> AgUIrRe                \n",
      "agustin              --> AgUSTiN                \n",
      "al                   --> Al                     \n",
      "alamo                --> AlAmO                  \n",
      "alar                 --> AlAr                   \n",
      "alaric               --> AlArIC                 \n",
      "alba                 --> AlBa                   \n"
     ]
    }
   ],
   "source": [
    "elemental_words = []\n",
    "i = 0\n",
    "for w in words:\n",
    "    w_from_el = get_chemical_word(w)\n",
    "    if w_from_el != \"\":\n",
    "        if i < 20:\n",
    "            print(f\"{w:<20} --> {w_from_el:<23}\")\n",
    "            i += 1\n",
    "        elemental_words.append(w_from_el)"
   ]
  },
  {
   "cell_type": "markdown",
   "metadata": {},
   "source": [
    "How many do we got?"
   ]
  },
  {
   "cell_type": "code",
   "execution_count": 16,
   "metadata": {},
   "outputs": [
    {
     "name": "stdout",
     "output_type": "stream",
     "text": [
      "10594\n"
     ]
    }
   ],
   "source": [
    "print(len(elemental_words))"
   ]
  },
  {
   "cell_type": "markdown",
   "metadata": {},
   "source": [
    "Great! So, there is roughly 1 in 10 chance that a given english word can be written in a chemical way! Let's find the longest!"
   ]
  },
  {
   "cell_type": "code",
   "execution_count": 18,
   "metadata": {},
   "outputs": [
    {
     "name": "stdout",
     "output_type": "stream",
     "text": [
      "CoNVErSAtIONaLiSTs 18\n"
     ]
    }
   ],
   "source": [
    "longest_index = [len(w) for w in elemental_words].index(max([len(w) for w in elemental_words]))\n",
    "\n",
    "print(elemental_words[longest_index], len(elemental_words[longest_index]))"
   ]
  },
  {
   "cell_type": "markdown",
   "metadata": {},
   "source": [
    "So, the word \"CoNVErSAtIONaLiSTs\" wins!"
   ]
  },
  {
   "cell_type": "markdown",
   "metadata": {},
   "source": [
    "## Getting all possible representations"
   ]
  },
  {
   "cell_type": "markdown",
   "metadata": {},
   "source": [
    "Actually, our analysis was not entirely correct. Remember, the algorithm first checks for the two-letter symbols and if it finds a match, tries to process the remaining part of the word. But it could happen, that a combination that starts with a one-letter symbol is valid. For example, our algorithm would fail to find a representation to \"cal\", since \"Ca\" exists, but \"L\" is not a valid chemical symbol. But \"cal\" could easily be written as \"CAl\". We can fix this, using a technique called backtracking."
   ]
  },
  {
   "cell_type": "code",
   "execution_count": 57,
   "metadata": {},
   "outputs": [],
   "source": [
    "def get_all_chemical_repr_of_word(word: str):\n",
    "    \"\"\"\n",
    "    Arguments:\n",
    "    word -- (str) input string of characters\n",
    "    w_orig\n",
    "    Returns:\n",
    "    result -- a list of strings, containing every\n",
    "    chemical representation of a given word\n",
    "    \"\"\"\n",
    "    def elemental_word(w, w_orig, res='', sol=[]):\n",
    "        # if res string has the same length as an original word, append \n",
    "        # to the solutions list\n",
    "        if len(res) == len(w_orig):\n",
    "            sol.append(res)\n",
    "\n",
    "        # split the word in two ways to check \n",
    "        prefix_1, suffix_1 = w[:1].lower(), w[1:].lower()\n",
    "        prefix_2, suffix_2 = w[:2].lower(), w[2:].lower()\n",
    "        \n",
    "        # call the function recursively for both cases, adding to the res\n",
    "        if prefix_1 in elements:\n",
    "            elemental_word(suffix_1, w_orig, res + prefix_1.capitalize(), sol)\n",
    "        if prefix_2 in elements:\n",
    "            elemental_word(suffix_2, w_orig, res + prefix_2.capitalize(), sol)\n",
    "\n",
    "        return list(set(sol))\n",
    "\n",
    "    word = word.lower()\n",
    "    return elemental_word(word,word)"
   ]
  },
  {
   "cell_type": "markdown",
   "metadata": {},
   "source": [
    "We are now able to find all possible representations for every word! Now, let's search for the longest words, and for the words with the largest amount of representations."
   ]
  },
  {
   "cell_type": "code",
   "execution_count": 58,
   "metadata": {},
   "outputs": [],
   "source": [
    "word_to_el_repr = {}\n",
    "for w in words:\n",
    "    sol = get_all_chemical_repr_of_word(w)\n",
    "    if len(sol) > 0:\n",
    "        word_to_el_repr[w] = sol"
   ]
  },
  {
   "cell_type": "code",
   "execution_count": 59,
   "metadata": {},
   "outputs": [
    {
     "name": "stdout",
     "output_type": "stream",
     "text": [
      " nonrepresentational --> ['NoNRePReSeNTaTiONAl', 'NONRePReSeNTaTiONAl']\n",
      "\n"
     ]
    }
   ],
   "source": [
    "for word, list_of_representations in word_to_el_repr.items():\n",
    "    if len(word)>=19:\n",
    "        print(f\"{word:>20} --> {list_of_representations}\\n\")"
   ]
  },
  {
   "cell_type": "markdown",
   "metadata": {},
   "source": [
    "That's interesting! The longest word is not actually \"CoNVErSAtIONaLiSTs\", but \"NoNRePReSeNTaTiONAl\", and it's **19** letters long!"
   ]
  },
  {
   "cell_type": "code",
   "execution_count": 60,
   "metadata": {},
   "outputs": [
    {
     "name": "stdout",
     "output_type": "stream",
     "text": [
      "          concubines --> ['CoNCUBInEs', 'CoNCuBiNEs', 'CoNCUBINEs', 'CoNCUBINeS', 'CONCuBiNEs', 'CONCUBInEs', 'CONCUBiNeS', 'CONCUBINEs', 'CoNCuBInEs', 'CONCuBiNeS', 'CONCuBINEs', 'CONCuBInEs', 'CONCUBINeS', 'CoNCUBiNEs', 'CoNCUBiNeS', 'CoNCuBINEs', 'CoNCuBINeS', 'CONCUBiNEs', 'CoNCuBiNeS', 'CONCuBINeS']\n",
      "\n",
      "     consciousnesses --> ['CONScIOUSNeSSeS', 'CONSCIOUSnEsSEs', 'CoNSCIOUSNEsSeS', 'CoNSCIOUSNeSSeS', 'CONSCIOUSNEsSeS', 'CONSCIOUSNeSSeS', 'CoNScIOUSNeSSeS', 'CONScIOUSnEsSEs', 'CoNSCIOUSnEsSEs', 'CoNScIOUSNEsSeS', 'CONScIOUSNEsSeS', 'CoNScIOUSNeSSEs', 'CoNScIOUSnEsSeS', 'CoNScIOUSNEsSEs', 'CoNScIOUSnEsSEs', 'CONScIOUSNeSSEs', 'CoNSCIOUSNEsSEs', 'CONSCIOUSnEsSeS', 'CONSCIOUSNeSSEs', 'CONSCIOUSNEsSEs', 'CoNSCIOUSNeSSEs', 'CoNSCIOUSnEsSeS', 'CONScIOUSNEsSEs', 'CONScIOUSnEsSeS']\n",
      "\n",
      "   inconspicuousness --> ['InCONSPICuOUSNEsS', 'INCoNSPICuOUSnEsS', 'InCONSPICUOUSNeSS', 'INCoNSPICUOUSNeSS', 'InCoNSPICuOUSnEsS', 'INCONSPICUOUSNeSS', 'InCONSPICuOUSNeSS', 'INCONSPICuOUSNeSS', 'INCONSPICUOUSnEsS', 'InCoNSPICuOUSNEsS', 'INCoNSPICUOUSNEsS', 'InCONSPICuOUSnEsS', 'INCONSPICuOUSnEsS', 'InCONSPICUOUSNEsS', 'INCoNSPICUOUSnEsS', 'InCONSPICUOUSnEsS', 'InCoNSPICUOUSnEsS', 'INCONSPICUOUSNEsS', 'INCoNSPICuOUSNeSS', 'InCoNSPICuOUSNeSS', 'InCoNSPICUOUSNeSS', 'INCONSPICuOUSNEsS', 'INCoNSPICuOUSNEsS', 'InCoNSPICUOUSNEsS']\n",
      "\n"
     ]
    }
   ],
   "source": [
    "for word, list_of_representations in word_to_el_repr.items():\n",
    "    if len(list_of_representations)>=20:\n",
    "        print(f\"{word:>20} --> {list_of_representations}\\n\")"
   ]
  },
  {
   "cell_type": "markdown",
   "metadata": {},
   "source": [
    "And these are the words with the highest number of ways in which they can be written. The word \"concubines\" (in Judaism, a concubine is a marital companion of inferior status to a wife) can be written in 20 different ways! And there is also clerly a pattern going on with \"cuous\" and \" cons\" letter combinations that help this words achieve a record."
   ]
  },
  {
   "cell_type": "markdown",
   "metadata": {},
   "source": [
    "We will now plot a distribution of the amount of representations"
   ]
  },
  {
   "cell_type": "code",
   "execution_count": 61,
   "metadata": {},
   "outputs": [
    {
     "data": {
      "application/vnd.jupyter.widget-view+json": {
       "model_id": "e4d600ef3c684d8c81ffb704f61e5418",
       "version_major": 2,
       "version_minor": 0
      },
      "image/png": "[encoded data removed]",
      "text/html": [
       "\n",
       "            <div style=\"display: inline-block;\">\n",
       "                <div class=\"jupyter-widgets widget-label\" style=\"text-align: center;\">\n",
       "                    Figure\n",
       "                </div>\n",
       "                <img src='data:image/png;base64,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' width=864.0/>\n",
       "            </div>\n",
       "        "
      ],
      "text/plain": [
       "Canvas(toolbar=Toolbar(toolitems=[('Home', 'Reset original view', 'home', 'home'), ('Back', 'Back to previous …"
      ]
     },
     "metadata": {},
     "output_type": "display_data"
    }
   ],
   "source": [
    "import matplotlib.pyplot as plt\n",
    "import numpy as np\n",
    "%matplotlib widget \n",
    "\n",
    "n_repr = [len(r) for w, r in word_to_el_repr.items()]\n",
    "\n",
    "counts, bins = np.histogram(n_repr, bins=20)\n",
    "plt.figure(figsize=(12,5))\n",
    "plt.clf()\n",
    "plt.hist(bins[:-1], bins, weights=counts)\n",
    "plt.yscale('log')\n",
    "plt.xlabel(\"Number of representations\")\n",
    "plt.ylabel(\"Number of words\")\n",
    "plt.show()"
   ]
  },
  {
   "cell_type": "markdown",
   "metadata": {},
   "source": [
    "## Wrap-up"
   ]
  },
  {
   "cell_type": "markdown",
   "metadata": {},
   "source": [
    "Thanks for reading till the end! I hope you enjoyed this notebook and learned something new! Please, play around with it, put in your name (or name of your cat) and see, how it can be written as chemical symbols."
   ]
  }
 ],
 "metadata": {
  "kernelspec": {
   "display_name": "Python 3",
   "language": "python",
   "name": "python3"
  },
  "language_info": {
   "codemirror_mode": {
    "name": "ipython",
    "version": 3
   },
   "file_extension": ".py",
   "mimetype": "text/x-python",
   "name": "python",
   "nbconvert_exporter": "python",
   "pygments_lexer": "ipython3",
   "version": "3.8.10"
  }
 },
 "nbformat": 4,
 "nbformat_minor": 4
}
